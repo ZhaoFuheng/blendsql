{
 "cells": [
  {
   "cell_type": "code",
   "execution_count": 42,
   "metadata": {
    "collapsed": true,
    "ExecuteTime": {
     "end_time": "2024-04-12T18:12:40.638283Z",
     "start_time": "2024-04-12T18:12:39.955076Z"
    }
   },
   "outputs": [],
   "source": [
    "import json\n",
    "from recognizers_number import recognize_number\n",
    "from recognizers_date_time import recognize_datetime, Culture\n",
    "import re"
   ]
  },
  {
   "cell_type": "code",
   "execution_count": 34,
   "outputs": [],
   "source": [
    "with open(\"../outputs/new-paper-results/hybridqa/gpt-4-blendsql-only-run5/rerun-predictions.json\", \"r\") as f:\n",
    "    predictions = json.load(f)"
   ],
   "metadata": {
    "collapsed": false,
    "ExecuteTime": {
     "end_time": "2024-04-12T18:11:04.473632Z",
     "start_time": "2024-04-12T18:11:04.414918Z"
    }
   }
  },
  {
   "cell_type": "code",
   "execution_count": 51,
   "outputs": [
    {
     "name": "stdout",
     "output_type": "stream",
     "text": [
      "101 natural language numbers\n",
      "697 digit numbers\n"
     ]
    }
   ],
   "source": [
    "nl_answers = []\n",
    "digit_answers = []\n",
    "money_answers = []\n",
    "for item in predictions:\n",
    "    answer = item[\"gold_answer\"]\n",
    "    if len(recognize_number(answer, Culture.English)) > 0:\n",
    "       if not re.search('\\d+', answer):\n",
    "           nl_answers.append(answer)\n",
    "       else:\n",
    "            if not recognize_datetime(answer, Culture.English):\n",
    "               digit_answers.append(answer)\n",
    "    if \"$\" in answer:\n",
    "        money_answers.append(answer)\n",
    "print(f\"{len(nl_answers)} natural language numbers\")\n",
    "print(f\"{len(digit_answers)} digit numbers\")"
   ],
   "metadata": {
    "collapsed": false,
    "ExecuteTime": {
     "end_time": "2024-04-12T18:17:49.003375Z",
     "start_time": "2024-04-12T18:17:39.481520Z"
    }
   }
  },
  {
   "cell_type": "code",
   "execution_count": 52,
   "outputs": [
    {
     "data": {
      "text/plain": "['$ 37 billion',\n '$ 20 million',\n '$ 30,689',\n '$ 375,000',\n '$ 116,230',\n '$ 103.2 million',\n '$ 1.59 billion',\n '$ 240',\n '$ 450,000',\n '$ 1.4 billion',\n 'US $ 476 million',\n '$ 1887/-',\n '$ 5,490,187',\n '$ 675,000',\n '$ 900',\n '$ 90 million']"
     },
     "execution_count": 52,
     "metadata": {},
     "output_type": "execute_result"
    }
   ],
   "source": [
    "money_answers"
   ],
   "metadata": {
    "collapsed": false,
    "ExecuteTime": {
     "end_time": "2024-04-12T18:17:49.947237Z",
     "start_time": "2024-04-12T18:17:49.941482Z"
    }
   }
  },
  {
   "cell_type": "code",
   "execution_count": 50,
   "outputs": [
    {
     "data": {
      "text/plain": "['five',\n 'seven times',\n 'Seven',\n 'two',\n 'three campuses',\n 'Three',\n 'over one million people',\n 'than twenty Brahmanas',\n 'five',\n 'Seven',\n 'Three',\n 'Four',\n 'number one',\n 'ten',\n 'Four',\n 'Murdered his wife , mother-in-law and three children',\n 'three',\n 'twelve',\n 'a quarter',\n 'two',\n 'nine',\n 'Nine federated states',\n 'four',\n 'fourteen',\n 'six',\n 'five',\n 'three',\n 'twelve',\n 'five',\n 'Big Ten',\n 'thirteen',\n 'two',\n 'two',\n 'nine',\n 'four teams',\n \"One , B'Day was her second\",\n 'three',\n 'Twenty',\n 'ten',\n 'four',\n 'Three Great Gardens of Japan',\n 'three',\n 'number one',\n 'nine',\n 'seven',\n 'Two miles',\n 'six',\n 'fourteen',\n 'one',\n 'fourteen',\n 'Twenty Plenty outlet',\n 'Three',\n 'two',\n 'two years',\n 'four',\n 'five',\n 'Two',\n 'two',\n 'five friends',\n 'Network Ten',\n 'two-thirds',\n 'one',\n 'twenty-three',\n 'seven',\n 'six',\n 'every four years',\n 'three',\n 'twenty-six',\n 'four',\n 'three',\n 'four times',\n 'eighteen',\n 'two',\n 'nine',\n 'five million',\n 'twelve',\n 'one-day Olympics',\n 'eight',\n 'three disciplines',\n 'Want One',\n 'thirty-two',\n 'two',\n 'three years',\n 'six',\n 'six Primetime Emmy Awards',\n 'three',\n 'six',\n 'seven million',\n 'Sixteen in total',\n 'nine members',\n 'Twenty Twenty',\n 'five',\n 'two',\n 'Seven Beauties',\n 'The process of digestion has three stages',\n 'nine',\n 'six',\n 'five',\n 'four',\n 'three',\n 'three']"
     },
     "execution_count": 50,
     "metadata": {},
     "output_type": "execute_result"
    }
   ],
   "source": [
    "nl_answers"
   ],
   "metadata": {
    "collapsed": false,
    "ExecuteTime": {
     "end_time": "2024-04-12T18:16:02.922668Z",
     "start_time": "2024-04-12T18:16:02.917306Z"
    }
   }
  },
  {
   "cell_type": "code",
   "execution_count": 49,
   "outputs": [
    {
     "data": {
      "text/plain": "['503 Peeples Street SW',\n '32',\n '3',\n '524 km',\n '2',\n '$ 37 billion',\n '5270',\n '75 million',\n '139.25',\n '3.37',\n '9',\n '47 acres',\n '28,108',\n '2,549',\n '4',\n '34,932',\n '24',\n '76101-054',\n '11 players',\n 'Masheka Mogilev 2',\n '2,500',\n '9.412',\n '20 million albums',\n '84',\n '$ 20 million',\n '2,448 km2',\n '171',\n '1.1',\n '185,038',\n 'No . 1',\n '342',\n '60',\n '6',\n '274,905',\n '4 million',\n '30 km',\n '3',\n '37.3M',\n '5,230,330',\n '5',\n '37',\n '9× Platinum',\n '5,000',\n '9,461,105',\n '5,400',\n '10',\n '2',\n '2 hourly',\n '580,367 square kilometres ( 224,081 sq mi )',\n '2',\n '8000 BC',\n 'US 20',\n '47',\n '9 Watergate Street',\n '21,397,000',\n '23',\n 'Volume 1',\n 'United States Army UH-60 Black Hawk',\n '7.48',\n 'Proposition 13',\n '124-acre',\n 'from 237 to 227 million years ago',\n '407',\n '3',\n '32',\n '65',\n '3',\n '6,000',\n '15',\n '7',\n '3,674',\n '15',\n '36',\n '566',\n '107 Nobel laureates',\n '58',\n '12,960',\n 'Red 121 , White 167',\n '88',\n '40',\n '306',\n '25',\n '2,514',\n 'CR 202',\n '308,580 hectares',\n '586',\n 'Thailand Route 4106',\n '15',\n '18',\n '7',\n '1-2',\n '250',\n '16',\n '3',\n '12 seasons',\n '15,941,000',\n '36,969',\n '18,000',\n \"Men 's 50 m backstroke\",\n '46',\n '11,249-capacity',\n '261',\n '1.5 million',\n '354 cc',\n '300-foot',\n '25,062',\n 'under-48-kilogram',\n '16 kilometres',\n 'Over 40%',\n '11,200',\n '38',\n '4',\n '5,527',\n '16',\n 'Highway 2',\n \"Half of the world 's 20 largest drugmakers\",\n '3.1 million hectares',\n '24+',\n '4',\n '3',\n '7',\n '5343 Southeast Abshier Boulevard',\n '522.59 km',\n '12.5 km',\n '39,519,400',\n 'No . 2',\n '30',\n '2',\n '$ 30,689',\n '# 70000667',\n '111',\n '56°43′55″N 2°39′42″W / 56.73194°N 2.66167°W / 56.73194 ; -2.66167 ( Brechin Cathedral )',\n '121',\n '4,612 km²',\n '1,163',\n '30',\n '1,500-meter freestyle',\n '338',\n '38.5',\n '$ 375,000',\n '19',\n '22',\n '25',\n '1',\n 'NA-13 ( Mansehra-I )',\n '16',\n '85 million',\n '0',\n '46.15%',\n '149.4',\n '47,774',\n '9.98',\n '15',\n '7',\n '0-11 ( 11 )',\n '151,801',\n '80',\n '3,800',\n '44634',\n '22,000',\n '3',\n '79112-054',\n '2',\n '12,711',\n '22',\n '3,000',\n '5',\n '56 square miles',\n '36,474',\n '17',\n '26',\n '24 miles',\n '27',\n 'FR-07',\n '3',\n '0.3',\n '26 million',\n '750',\n '16',\n '10',\n '5',\n '46',\n 'batting .358',\n '21',\n '76',\n '6,863',\n '17',\n '10,888',\n '6',\n '12',\n '631,486',\n '2,138',\n '4',\n 'The city was initially founded between 1771 and 1776',\n '30°41′22″N 88°2′37″W / 30.68944°N 88.04361°W / 30.68944 ; -88.04361 ( Government Street Presbyterian Church )',\n 'K League 1',\n '3,000',\n 'the National Premier Leagues Victoria Division 1',\n '36',\n '10',\n '2500',\n '44',\n '558,797',\n 'nearly 600',\n '2',\n '37',\n '15',\n '3.8 million square miles',\n '1.12 square miles',\n 'Amalgam Comics # 1',\n '4',\n '$ 116,230',\n '19',\n '6',\n '4.05',\n '60',\n '24,000',\n '3',\n '4',\n '2 million',\n 'Cyborg 009 : Legend of the Super Galaxy',\n '4',\n \"Men 's freestyle 74 kg\",\n '77',\n '40-0',\n '95550',\n '125 metres',\n 'KNM-LT 329',\n '4,298,655',\n '707 ha',\n '80827',\n '2',\n '146,100 square kilometres ( 56,400 sq mi )',\n '1',\n '2,766.6',\n '3,500',\n '16',\n 'KVVV 15',\n '0',\n '0',\n 'CR 43',\n '3',\n '5.3 miles',\n 'Guitar Hero Track Pack 1',\n '2,168',\n '6,211',\n '13.75',\n 'roughly 400',\n '4,935',\n '6',\n '17.34 million',\n '1,800',\n '3',\n '2',\n '51%',\n '2,411',\n '378',\n '5',\n '5-2',\n '46,800',\n '37.9 million',\n 'Over 40%',\n '4',\n '79,343',\n '130 km',\n '5,000',\n '114',\n '86',\n '20',\n '19',\n '6',\n '19.6',\n '72,465',\n '# 06000989',\n '120 steps per minute',\n '637.4 square miles',\n '6 ft 8\\u200b3⁄4 in',\n '17',\n '51,700',\n '3,857 km2 ( 1,489 sq mi )',\n '4',\n '230 square kilometres',\n '2,000 kilometres',\n '1.4-acre ( 0.57 ha )',\n '20,000',\n \"Men 's 10 m platform\",\n '47',\n 'No . 1',\n 'League 1',\n '15 miles',\n '80-inch',\n '83,500',\n '11',\n '34',\n '3,905',\n '1,884',\n '24.3 km',\n '1.8 million square kilometres',\n \"Men 's 200 m\",\n '37,188',\n '649,021',\n '491,918',\n '2',\n '84,298',\n '3000 m steeplechase',\n '18 AF/AFTRANS',\n '1',\n '1008211',\n 'U.S . Routes 20 and 169',\n '100 Philip Aziz Avenue',\n '6,763',\n '11,406',\n '6',\n '13',\n '80,093',\n '47.6 million people',\n '1,550 m',\n '1,864',\n '7',\n '310',\n '13,486',\n '8,055',\n '3,550',\n '3',\n '20,000',\n '10',\n '38°03′25″N 83°56′26″W / 38.056944°N 83.940556°W / 38.056944 ; -83.940556 ( Methodist Episcopal Church South )',\n '4.5 million',\n '17',\n '17',\n '203',\n '58.5',\n '8',\n '11 miles',\n '2.6',\n '24-32 ( 10-20 )',\n '2,317,105',\n '55°56′58″N 3°11′27″W / 55.94944°N 3.19083°W / 55.94944 ; -3.19083 ( St. Giles Cathedral )',\n '2',\n '8.84',\n '40',\n '€757,3 million',\n '# 76001760',\n '3',\n 'USD 2 Million',\n '68',\n '9',\n '9',\n '253',\n '18',\n 'More than 11,000',\n 'A1A-2',\n '542,868',\n '65 million',\n '6',\n '15',\n '450,000',\n '82',\n '2.1',\n '7,500',\n '2',\n '3',\n '2.11',\n '103,608',\n '82,418',\n '23,450㎡',\n '20%',\n '20',\n '7.4 million',\n 'Airbus A319-100',\n 'more than 19,000 students',\n '1-20 ( 23 )',\n 'slight frame , weighing just 70 kilograms',\n '8.1 percent',\n '82.684 miles',\n '760',\n '50,000 square meters',\n '7,866',\n '4',\n '22-16-3',\n '5',\n '3',\n '9',\n '12',\n '143',\n '2',\n '34,000',\n '7,500',\n '6',\n '8',\n \"Women 's freestyle 48 kg\",\n '2,954 meters',\n '3,776.24 m',\n '2',\n '10',\n '25,000',\n '2',\n '1 ( 120 )',\n '51 feet long',\n '6',\n '2',\n '$ 103.2 million',\n '968',\n '2.09',\n '25',\n '55',\n '572',\n 'CR 132',\n '20%',\n '505,526',\n '9,000',\n '4',\n '60',\n '9',\n '29 teams from the United States and 1 from Canada',\n '5.6 million',\n '55,000',\n '90',\n '$ 1.59 billion',\n '22,970 square kilometres',\n '47,803.7',\n '4 million',\n '128,624 inhabitants',\n 'between 14.5 and 17.4 million',\n '7,500',\n '5',\n '570',\n 'between 18 and 24° C',\n '2.6 nautical miles',\n '44 races',\n '81',\n '17',\n '2',\n '2',\n '50,782',\n '250 feet',\n '76 points',\n '715 miles',\n 'Thai League 2',\n '634,300',\n '979',\n '3',\n '10 miles',\n '2,193',\n '512358',\n '8',\n '1',\n 'between 60 and 64 kilograms',\n '3 ft 4 in',\n '10,768',\n '5',\n '18',\n '25-44',\n '37',\n '278',\n '3 times',\n '14',\n '12',\n '26,512',\n '5608',\n '26,700',\n '35,938',\n '656-acre',\n '500 m',\n '266',\n '2',\n '7,536,383',\n '30 national championships',\n 'Highway 25',\n '4',\n '27,000',\n '17,448',\n '93,348',\n '$ 240',\n '1.428 billion',\n '368',\n 'over 500,000 copies',\n '$ 450,000',\n '19-22',\n '70',\n '4',\n '1',\n '10 km',\n '21,000',\n '104',\n '45,750',\n '$ 1.4 billion',\n '3',\n 'around 600 B.C',\n '5,735',\n '2.655 million',\n '12',\n '501.66',\n '15,133',\n '1,614',\n '5.7 square miles',\n '22.42',\n '11',\n '147',\n '# 91000775',\n '38.245',\n '7,289',\n '2',\n '5',\n '619',\n '19,000',\n '24,000',\n '15',\n '34,533',\n 'US $ 476 million',\n '110',\n '20 million',\n '5',\n '6',\n '200',\n '18',\n '903,366.2',\n '5',\n '2',\n '21 seasons',\n '3',\n '21',\n '42',\n 'Finding Teddy 2',\n '7',\n '14',\n '309 beds',\n '1,081',\n '41°49′51″N 90°50′20″W / 41.830833°N 90.838889°W / 41.830833 ; -90.838889 ( City Hotel )',\n '9.2 million',\n '114,922',\n '7,163,416',\n '85,000',\n '99.72',\n '4',\n '4',\n '117 mi',\n '1,200',\n '4.5×40mmR',\n '506,535',\n 'Mortal Kombat 9',\n '2.9 million',\n '4,883 points',\n '3',\n '10',\n '2',\n '316,000 listeners',\n '3',\n '631,313',\n '539 BCE',\n '1,521',\n '20',\n '18.25',\n '3',\n '0',\n '88 km',\n '9000',\n '7',\n '4',\n '20,600',\n '3',\n '50 miles',\n '17-county area',\n '15',\n '0',\n '6p21.3',\n '0',\n '110',\n 'Sesame Street 4-D Movie Magic',\n 'Avengers # 9',\n '8,987',\n '1,174,209',\n '20',\n '492 m',\n '80% of its staff',\n '10',\n '17,606',\n '43',\n '8',\n '34',\n '8,500',\n '11.7',\n '15',\n '86 episodes',\n '3,933',\n '1,630',\n '2',\n '302 Calumet Avenue',\n '1 , 2 , 3',\n '581 feet',\n '65',\n '8,540',\n '13',\n '13',\n '43,013',\n '8,029',\n '107 mm',\n '$ 5,490,187',\n '742',\n '6',\n '3',\n '23',\n '26',\n '20',\n '9.5 million',\n '112,525',\n '48',\n '476,179',\n '1,178 feet ( 359 m )',\n '4',\n '$ 675,000',\n '8,020',\n '35,715',\n '142',\n '6',\n '22.6-mile-long',\n '40%',\n 'Up to 250 aircraft of all types',\n '5579 sq mi',\n '50-mile',\n '4000',\n \"6 ' 0\",\n '20',\n '16,686',\n '30',\n '2370-2371',\n '4.5 million',\n '57',\n '251 registered members',\n '7',\n '1,961,269',\n '500',\n '264,091',\n '5',\n '70',\n '2',\n '146.7 million',\n '1.47 million',\n '749',\n '5',\n '1,827,165',\n '4',\n '885,287',\n '190 miles',\n '300,000',\n '36 states',\n '$ 900',\n '50 km',\n '183.64',\n '19',\n '8.95',\n '806 km',\n '50 centimetres',\n '32',\n '10,277',\n '34,240',\n '357,386',\n '240,342',\n '8.595',\n '18',\n '10.2',\n '100 and 200 metres',\n '57,449 people',\n '12,491,300',\n '5 MW',\n '57 million yuan',\n '10,942',\n '7',\n '242',\n '2,238,537',\n '5',\n '3',\n '25',\n '74',\n '44',\n '8,000',\n '4',\n 'Bill C-168',\n '5,642',\n '9.837',\n '3,300 acres',\n '2',\n '$ 90 million',\n '9.575',\n '5,500',\n '2',\n '17,000',\n '21 Avondale St',\n '14,462',\n '4 - 3',\n '100',\n '+8.37%',\n '13',\n '17,317',\n '71',\n '10.8%',\n '14']"
     },
     "execution_count": 49,
     "metadata": {},
     "output_type": "execute_result"
    }
   ],
   "source": [
    "digit_answers"
   ],
   "metadata": {
    "collapsed": false,
    "ExecuteTime": {
     "end_time": "2024-04-12T18:15:56.691142Z",
     "start_time": "2024-04-12T18:15:56.686177Z"
    }
   }
  },
  {
   "cell_type": "code",
   "execution_count": null,
   "outputs": [],
   "source": [],
   "metadata": {
    "collapsed": false
   }
  }
 ],
 "metadata": {
  "kernelspec": {
   "display_name": "Python 3",
   "language": "python",
   "name": "python3"
  },
  "language_info": {
   "codemirror_mode": {
    "name": "ipython",
    "version": 2
   },
   "file_extension": ".py",
   "mimetype": "text/x-python",
   "name": "python",
   "nbconvert_exporter": "python",
   "pygments_lexer": "ipython2",
   "version": "2.7.6"
  }
 },
 "nbformat": 4,
 "nbformat_minor": 0
}
