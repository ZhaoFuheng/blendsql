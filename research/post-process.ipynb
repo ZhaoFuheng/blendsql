{
 "cells": [
  {
   "cell_type": "code",
   "execution_count": 57,
   "metadata": {
    "collapsed": true,
    "ExecuteTime": {
     "end_time": "2024-04-05T18:24:24.032051Z",
     "start_time": "2024-04-05T18:24:24.028594Z"
    }
   },
   "outputs": [],
   "source": [
    "blendsql = \"\"\"\n",
    "{{\n",
    "    LLMQA(\n",
    "        'Who is the author of the book Riflemans Creed?',\n",
    "        (SELECT title, content FROM documents WHERE documents MATCH 'Riflemans Creed'),\n",
    "        options='w::notable commanding officers'    )\n",
    "}}\n",
    "\"\"\""
   ]
  },
  {
   "cell_type": "code",
   "execution_count": 58,
   "outputs": [],
   "source": [
    "import re\n",
    "from blendsql.grammars._peg_grammar import grammar"
   ],
   "metadata": {
    "collapsed": false,
    "ExecuteTime": {
     "end_time": "2024-04-05T18:24:24.187764Z",
     "start_time": "2024-04-05T18:24:24.184303Z"
    }
   }
  },
  {
   "cell_type": "code",
   "execution_count": 59,
   "outputs": [],
   "source": [
    "for parse_results, _, _ in grammar.scanString(blendsql):\n",
    "    parsed_results_dict = parse_results.as_dict()\n",
    "    if len(parsed_results_dict[\"args\"]) > 0:\n",
    "        blendsql = re.sub(re.escape(parsed_results_dict[\"args\"][0]), re.sub(r'(\\'|\\\")', '', parsed_results_dict[\"args\"][0]), blendsql)"
   ],
   "metadata": {
    "collapsed": false,
    "ExecuteTime": {
     "end_time": "2024-04-05T18:24:24.445291Z",
     "start_time": "2024-04-05T18:24:24.443366Z"
    }
   }
  },
  {
   "cell_type": "code",
   "execution_count": 60,
   "outputs": [
    {
     "data": {
      "text/plain": "'Who is the author of the book Riflemans Creed?'"
     },
     "execution_count": 60,
     "metadata": {},
     "output_type": "execute_result"
    }
   ],
   "source": [
    "re.sub(r'(\\'|\\\")', '', parsed_results_dict[\"args\"][0])"
   ],
   "metadata": {
    "collapsed": false,
    "ExecuteTime": {
     "end_time": "2024-04-05T18:24:25.153941Z",
     "start_time": "2024-04-05T18:24:25.149982Z"
    }
   }
  },
  {
   "cell_type": "code",
   "execution_count": 61,
   "outputs": [
    {
     "data": {
      "text/plain": "'Who is the author of the book Riflemans Creed?'"
     },
     "execution_count": 61,
     "metadata": {},
     "output_type": "execute_result"
    }
   ],
   "source": [
    "parsed_results_dict[\"args\"][0]"
   ],
   "metadata": {
    "collapsed": false,
    "ExecuteTime": {
     "end_time": "2024-04-05T18:24:26.128580Z",
     "start_time": "2024-04-05T18:24:26.125069Z"
    }
   }
  },
  {
   "cell_type": "code",
   "execution_count": 62,
   "outputs": [
    {
     "name": "stdout",
     "output_type": "stream",
     "text": [
      "\n",
      "{{\n",
      "    LLMQA(\n",
      "        'Who is the author of the book Riflemans Creed?',\n",
      "        (SELECT title, content FROM documents WHERE documents MATCH 'Riflemans Creed'),\n",
      "        options='w::notable commanding officers'    )\n",
      "}}\n",
      "\n"
     ]
    }
   ],
   "source": [
    "print(blendsql)"
   ],
   "metadata": {
    "collapsed": false,
    "ExecuteTime": {
     "end_time": "2024-04-05T18:24:26.290834Z",
     "start_time": "2024-04-05T18:24:26.286665Z"
    }
   }
  },
  {
   "cell_type": "code",
   "execution_count": 18,
   "outputs": [],
   "source": [
    "for match in re.finditer(r'(?<=MATCH )(\\'|\\\").*(\\'|\\\")', blendsql):\n",
    "    fts5_q = match.group()\n",
    "    blendsql = re.sub(r'MATCH {}'.format(fts5_q), f'MATCH \\'{re.sub(r\"-\", \" \", fts5_q[1:-1])}\\'', blendsql)\n",
    "    blendsql = re.sub(r'MATCH {}'.format(fts5_q), f'MATCH \\'{re.sub(r\"[^0-9a-zA-Z ]\", \"\", fts5_q[1:-1])}\\'', blendsql)\n"
   ],
   "metadata": {
    "collapsed": false,
    "ExecuteTime": {
     "end_time": "2024-04-05T18:18:07.786873Z",
     "start_time": "2024-04-05T18:18:07.784491Z"
    }
   }
  },
  {
   "cell_type": "code",
   "execution_count": 19,
   "outputs": [
    {
     "data": {
      "text/plain": "'\\nSELECT \"battalion name\" FROM w WHERE \"location ( s )\" LIKE \\'%Guantanamo Bay%\\' AND \"notable commanding officers\" = {{\\n    LLMQA(\\n        \\'Who is the author of the book Rifleman\\'s Creed?\\',\\n        (SELECT title, content FROM documents WHERE documents MATCH \\'Riflemans Creed\\'),\\n        options=\\'w::notable commanding officers\\'    )\\n}}\\n'"
     },
     "execution_count": 19,
     "metadata": {},
     "output_type": "execute_result"
    }
   ],
   "source": [
    "blendsql"
   ],
   "metadata": {
    "collapsed": false,
    "ExecuteTime": {
     "end_time": "2024-04-05T18:18:09.343273Z",
     "start_time": "2024-04-05T18:18:09.340359Z"
    }
   }
  },
  {
   "cell_type": "code",
   "execution_count": null,
   "outputs": [],
   "source": [],
   "metadata": {
    "collapsed": false
   }
  }
 ],
 "metadata": {
  "kernelspec": {
   "display_name": "Python 3",
   "language": "python",
   "name": "python3"
  },
  "language_info": {
   "codemirror_mode": {
    "name": "ipython",
    "version": 2
   },
   "file_extension": ".py",
   "mimetype": "text/x-python",
   "name": "python",
   "nbconvert_exporter": "python",
   "pygments_lexer": "ipython2",
   "version": "2.7.6"
  }
 },
 "nbformat": 4,
 "nbformat_minor": 0
}
