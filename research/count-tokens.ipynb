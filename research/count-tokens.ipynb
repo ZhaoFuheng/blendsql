{
 "cells": [
  {
   "cell_type": "code",
   "execution_count": 39,
   "metadata": {
    "collapsed": true,
    "ExecuteTime": {
     "end_time": "2024-04-08T17:10:31.487553Z",
     "start_time": "2024-04-08T17:10:31.486265Z"
    }
   },
   "outputs": [],
   "source": [
    "from blendsql.db import SQLite\n",
    "from research.constants import EvalField\n",
    "import json\n",
    "from blendsql.models import AzureOpenaiLLM\n",
    "from tqdm.notebook import tqdm\n",
    "from blendsql import LLMQA, LLMMap, LLMJoin, blend"
   ]
  },
  {
   "cell_type": "code",
   "execution_count": 40,
   "outputs": [],
   "source": [
    "from blendsql._program import Program\n",
    "from guidance import gen\n",
    "\n",
    "BASE_SYSTEM_PROMPT = \"\"\"\n",
    "This is a hybrid question answering task. The goal of this task is to answer the question given a table (`w`) and corresponding passages (`docs`).\n",
    "Be as succinct as possible in answering the given question, do not include explanation.\n",
    "\"\"\"\n",
    "\n",
    "class EndtoEndProgram(Program):\n",
    "    def __call__(self, serialized_db: str, question: str, **kwargs):\n",
    "        with self.systemcontext:\n",
    "            self.model += BASE_SYSTEM_PROMPT\n",
    "        with self.usercontext:\n",
    "            self.model += f\"Context:\\n{serialized_db}\\n\\n\"\n",
    "            self.model += f\"Question: {question}\\n\"\n",
    "            self.model += f\"Answer:\\n\"\n",
    "        return self.model._current_prompt()\n",
    "\n",
    "BASE_SYSTEM_PROMPT = \"\"\"\n",
    "Generate BlendSQL given the question, table, and passages to answer the question correctly.\n",
    "BlendSQL is a superset of SQLite, which adds external function calls for information not found within native SQLite.\n",
    "These external functions should be wrapped in double curly brackets.\n",
    "\n",
    "{ingredients_prompt}\n",
    "\n",
    "Additionally, we have the table `documents` at our disposal, which contains Wikipedia articles providing more details about the values in our table.\n",
    "ONLY use BlendSQL ingredients if necessary.\n",
    "Answer parts of the question in vanilla SQL, if possible.\n",
    "\"\"\"\n",
    "with open(\"../research/prompts/hybridqa/few_shot.txt\", \"r\") as f:\n",
    "    few_shot_prompt = f.read()\n",
    "\n",
    "with open(\"../research/prompts/hybridqa/ingredients.txt\", \"r\") as f:\n",
    "    ingredients_prompt = f.read()\n",
    "\n",
    "class ParserProgram(Program):\n",
    "    def __call__(self, serialized_db: str, question: str, bridge_hints: str = None, **kwargs):\n",
    "        with self.systemcontext:\n",
    "            self.model += BASE_SYSTEM_PROMPT.format(ingredients_prompt=ingredients_prompt)\n",
    "        with self.usercontext:\n",
    "            self.model += f\"{few_shot_prompt}\\n\\n\"\n",
    "            self.model += f\"{serialized_db}\\n\\n\"\n",
    "            if bridge_hints:\n",
    "                self.model += f\"Here are some values that may be useful: {bridge_hints}\\n\"\n",
    "            self.model += f\"Q: {question}\\n\"\n",
    "            self.model += f\"BlendSQL:\\n\"\n",
    "        return self.model._current_prompt()"
   ],
   "metadata": {
    "collapsed": false,
    "ExecuteTime": {
     "end_time": "2024-04-08T17:10:33.211309Z",
     "start_time": "2024-04-08T17:10:33.206744Z"
    }
   }
  },
  {
   "cell_type": "code",
   "execution_count": 42,
   "outputs": [],
   "source": [
    "with open(\"../research/outputs/paper-results/hybridqa/gpt-4-blendsql-plus-pp/predictions.json\", \"r\") as f:\n",
    "    predictions = json.load(f)"
   ],
   "metadata": {
    "collapsed": false,
    "ExecuteTime": {
     "end_time": "2024-04-08T17:10:35.896906Z",
     "start_time": "2024-04-08T17:10:35.789722Z"
    }
   }
  },
  {
   "cell_type": "code",
   "execution_count": 35,
   "outputs": [
    {
     "data": {
      "text/plain": "  0%|          | 0/3466 [00:00<?, ?it/s]",
      "application/vnd.jupyter.widget-view+json": {
       "version_major": 2,
       "version_minor": 0,
       "model_id": "f59e8b9448f345e592f04d08b7e0a493"
      }
     },
     "metadata": {},
     "output_type": "display_data"
    },
    {
     "name": "stdout",
     "output_type": "stream",
     "text": [
      "Average: end-to-end, no truncation\n",
      "7857.350548182343\n"
     ]
    }
   ],
   "source": [
    "num_tokens = 0\n",
    "model = AzureOpenaiLLM(\"gpt-4\", env=\"..\")\n",
    "for item in tqdm(predictions):\n",
    "    db = SQLite( \"../\" + item[EvalField.DB_PATH])\n",
    "    question = item[EvalField.QUESTION]\n",
    "    prompt = EndtoEndProgram(model=model.model, serialized_db=db.to_serialized(whole_table=True), question=question)\n",
    "    num_tokens += len(model.tokenizer.encode(prompt))\n",
    "print(\"Average: end-to-end, no truncation\")\n",
    "print(num_tokens / len(predictions))"
   ],
   "metadata": {
    "collapsed": false,
    "ExecuteTime": {
     "end_time": "2024-04-08T17:01:59.673755Z",
     "start_time": "2024-04-08T16:59:12.965083Z"
    }
   }
  },
  {
   "cell_type": "code",
   "execution_count": 36,
   "outputs": [
    {
     "data": {
      "text/plain": "  0%|          | 0/3466 [00:00<?, ?it/s]",
      "application/vnd.jupyter.widget-view+json": {
       "version_major": 2,
       "version_minor": 0,
       "model_id": "b10edb7d2f1740778d4f1e28dadf0e79"
      }
     },
     "metadata": {},
     "output_type": "display_data"
    },
    {
     "name": "stdout",
     "output_type": "stream",
     "text": [
      "Average: end-to-end, truncated to 400:\n",
      "3910.5545297172534\n"
     ]
    }
   ],
   "source": [
    "num_tokens = 0\n",
    "model = AzureOpenaiLLM(\"gpt-4\", env=\"..\")\n",
    "for item in tqdm(predictions):\n",
    "    db = SQLite( \"../\" + item[EvalField.DB_PATH])\n",
    "    question = item[EvalField.QUESTION]\n",
    "    prompt = EndtoEndProgram(model=model.model, serialized_db=db.to_serialized(whole_table=True, truncate_content=400), question=question)\n",
    "    num_tokens += len(model.tokenizer.encode(prompt))\n",
    "print(\"Average: end-to-end, truncated to 400:\")\n",
    "print(num_tokens / len(predictions))"
   ],
   "metadata": {
    "collapsed": false,
    "ExecuteTime": {
     "end_time": "2024-04-08T17:02:39.890087Z",
     "start_time": "2024-04-08T17:01:59.676260Z"
    }
   }
  },
  {
   "cell_type": "code",
   "execution_count": 54,
   "outputs": [
    {
     "data": {
      "text/plain": "  0%|          | 0/3466 [00:00<?, ?it/s]",
      "application/vnd.jupyter.widget-view+json": {
       "version_major": 2,
       "version_minor": 0,
       "model_id": "62cf4c8c464744d6a1cfdccf1f206526"
      }
     },
     "metadata": {},
     "output_type": "display_data"
    },
    {
     "name": "stdout",
     "output_type": "stream",
     "text": [
      "\u001B[31mSomething went wrong!\u001B[39m\n",
      "Execution failed on sql 'SELECT * FROM \"documents\" WHERE w.\"capacity\" = (SELECT MAX(w.\"capacity\") AS _col_0 FROM w)': no such column: w.capacity\n",
      "\u001B[31mSomething went wrong!\u001B[39m\n",
      "Execution failed on sql 'SELECT * FROM \"documents\" WHERE w.\"year\" = (SELECT MAX(w.\"year\") AS _col_0 FROM w)': no such column: w.year\n",
      "\u001B[31mSomething went wrong!\u001B[39m\n",
      "Execution failed on sql 'SELECT * FROM \"documents\" WHERE w.\"year\" BETWEEN 1983 AND 1984': no such column: w.year\n",
      "\u001B[31mSomething went wrong!\u001B[39m\n",
      "Execution failed on sql 'SELECT * FROM \"documents\" WHERE w.\"losses\" = (SELECT MIN(w.\"losses\") AS _col_0 FROM w)': no such column: w.losses\n",
      "\u001B[33mRefreshing the access tokens...\u001B[39m\n",
      "\u001B[33mRefreshing the access tokens...\u001B[39m\n",
      "\u001B[33mRefreshing the access tokens...\u001B[39m\n",
      "\u001B[33mRefreshing the access tokens...\u001B[39m\n",
      "\u001B[33mRefreshing the access tokens...\u001B[39m\n",
      "\u001B[33mRefreshing the access tokens...\u001B[39m\n",
      "\u001B[33mRefreshing the access tokens...\u001B[39m\n",
      "\u001B[33mRefreshing the access tokens...\u001B[39m\n",
      "\u001B[33mRefreshing the access tokens...\u001B[39m\n",
      "\u001B[33mRefreshing the access tokens...\u001B[39m\n",
      "\u001B[33mRefreshing the access tokens...\u001B[39m\u001B[33mRefreshing the access tokens...\u001B[39m\n",
      "\n",
      "\u001B[33mRefreshing the access tokens...\u001B[39m\n",
      "\u001B[33mRefreshing the access tokens...\u001B[39m\n",
      "\u001B[33mRefreshing the access tokens...\u001B[39m\n",
      "\u001B[33mRefreshing the access tokens...\u001B[39m\n",
      "\u001B[33mRefreshing the access tokens...\u001B[39m\n",
      "\u001B[33mRefreshing the access tokens...\u001B[39m\n",
      "\u001B[33mRefreshing the access tokens...\u001B[39m\n",
      "\u001B[33mRefreshing the access tokens...\u001B[39m\n",
      "\u001B[33mRefreshing the access tokens...\u001B[39m\n",
      "\u001B[33mRefreshing the access tokens...\u001B[39m\n",
      "\u001B[33mRefreshing the access tokens...\u001B[39m\n",
      "\u001B[33mRefreshing the access tokens...\u001B[39m\n",
      "\u001B[33mRefreshing the access tokens...\u001B[39m\n",
      "\u001B[33mRefreshing the access tokens...\u001B[39m\n",
      "\u001B[33mRefreshing the access tokens...\u001B[39m\n",
      "\u001B[33mRefreshing the access tokens...\u001B[39m\n",
      "\u001B[31mSomething went wrong!\u001B[39m\n",
      "Execution failed on sql 'SELECT * FROM \"documents\" WHERE w.\"year\" BETWEEN 1991 AND 1994': no such column: w.year\n",
      "\u001B[33mRefreshing the access tokens...\u001B[39m\n",
      "\u001B[33mRefreshing the access tokens...\u001B[39m\n",
      "\u001B[33mRefreshing the access tokens...\u001B[39m\n",
      "\u001B[33mRefreshing the access tokens...\u001B[39m\n",
      "\u001B[33mRefreshing the access tokens...\u001B[39m\n",
      "\u001B[33mRefreshing the access tokens...\u001B[39m\n",
      "\u001B[33mRefreshing the access tokens...\u001B[39m\n",
      "\u001B[33mRefreshing the access tokens...\u001B[39m\n",
      "\u001B[33mRefreshing the access tokens...\u001B[39m\n",
      "\u001B[33mRefreshing the access tokens...\u001B[39m\n",
      "\u001B[33mRefreshing the access tokens...\u001B[39m\n",
      "\u001B[33mRefreshing the access tokens...\u001B[39m\n",
      "\u001B[33mRefreshing the access tokens...\u001B[39m\n",
      "\u001B[33mRefreshing the access tokens...\u001B[39m\n",
      "\u001B[33mRefreshing the access tokens...\u001B[39m\n",
      "\u001B[33mRefreshing the access tokens...\u001B[39m\n",
      "\u001B[33mRefreshing the access tokens...\u001B[39m\n",
      "\u001B[33mRefreshing the access tokens...\u001B[39m\n",
      "\u001B[33mRefreshing the access tokens...\u001B[39m\n",
      "\u001B[33mRefreshing the access tokens...\u001B[39m\n",
      "\u001B[33mRefreshing the access tokens...\u001B[39m\n",
      "\u001B[33mRefreshing the access tokens...\u001B[39m\n",
      "\u001B[33mRefreshing the access tokens...\u001B[39m\n",
      "\u001B[33mRefreshing the access tokens...\u001B[39m\n",
      "\u001B[33mRefreshing the access tokens...\u001B[39m\n",
      "\u001B[33mRefreshing the access tokens...\u001B[39m\n",
      "\u001B[33mRefreshing the access tokens...\u001B[39m\n",
      "\u001B[33mRefreshing the access tokens...\u001B[39m\n",
      "\u001B[33mRefreshing the access tokens...\u001B[39m\n",
      "\u001B[33mRefreshing the access tokens...\u001B[39m\n",
      "\u001B[33mRefreshing the access tokens...\u001B[39m\n",
      "\u001B[33mRefreshing the access tokens...\u001B[39m\n",
      "\u001B[31mSomething went wrong!\u001B[39m\n",
      "Execution failed on sql 'SELECT * FROM \"documents\" WHERE TRUE AND w.\"year opened\" BETWEEN 1990 AND 1999': no such column: w.year opened\n",
      "\u001B[33mRefreshing the access tokens...\u001B[39m\n",
      "\u001B[33mRefreshing the access tokens...\u001B[39m\n",
      "\u001B[33mRefreshing the access tokens...\u001B[39m\n",
      "\u001B[33mRefreshing the access tokens...\u001B[39m\n",
      "\u001B[33mRefreshing the access tokens...\u001B[39m\n",
      "\u001B[33mRefreshing the access tokens...\u001B[39m\n",
      "\u001B[33mRefreshing the access tokens...\u001B[39m\n",
      "\u001B[33mRefreshing the access tokens...\u001B[39m\n",
      "\u001B[33mRefreshing the access tokens...\u001B[39m\n",
      "\u001B[33mRefreshing the access tokens...\u001B[39m\n",
      "\u001B[31mSomething went wrong!\u001B[39m\n",
      "Execution failed on sql 'SELECT * FROM \"documents\" WHERE TRUE AND w.\"closed\" = (SELECT MAX(w.\"closed\") AS _col_0 FROM w WHERE w.\"lga\" = 'sunshine coast')': no such column: w.closed\n",
      "\u001B[33mRefreshing the access tokens...\u001B[39m\n",
      "\u001B[33mRefreshing the access tokens...\u001B[39m\n",
      "\u001B[33mRefreshing the access tokens...\u001B[39m\n",
      "\u001B[33mRefreshing the access tokens...\u001B[39m\n",
      "\u001B[33mRefreshing the access tokens...\u001B[39m\n",
      "\u001B[33mRefreshing the access tokens...\u001B[39m\n",
      "\u001B[33mRefreshing the access tokens...\u001B[39m\n",
      "\u001B[33mRefreshing the access tokens...\u001B[39m\n",
      "\u001B[33mRefreshing the access tokens...\u001B[39m\n",
      "\u001B[33mRefreshing the access tokens...\u001B[39m\n",
      "\u001B[33mRefreshing the access tokens...\u001B[39m\n",
      "\u001B[33mRefreshing the access tokens...\u001B[39m\n",
      "\u001B[33mRefreshing the access tokens...\u001B[39m\n",
      "\u001B[33mRefreshing the access tokens...\u001B[39m\n",
      "\u001B[33mRefreshing the access tokens...\u001B[39m\n",
      "\u001B[33mRefreshing the access tokens...\u001B[39m\n",
      "\u001B[33mRefreshing the access tokens...\u001B[39m\n",
      "\u001B[33mRefreshing the access tokens...\u001B[39m\n",
      "\u001B[33mRefreshing the access tokens...\u001B[39m\n",
      "\u001B[33mRefreshing the access tokens...\u001B[39m\n",
      "\u001B[31mSomething went wrong!\u001B[39m\n",
      "Execution failed on sql 'SELECT * FROM \"documents\" WHERE w.\"championship\" IN (TRUE, TRUE)': no such column: w.championship\n",
      "\u001B[31mSomething went wrong!\u001B[39m\n",
      "Execution failed on sql 'SELECT * FROM \"documents\" WHERE w.\"hits\" = (SELECT MAX(w.\"hits\") AS _col_0 FROM w)': no such column: w.hits\n",
      "\u001B[33mRefreshing the access tokens...\u001B[39m\n",
      "\u001B[33mRefreshing the access tokens...\u001B[39m\n",
      "\u001B[33mRefreshing the access tokens...\u001B[39m\n",
      "\u001B[33mRefreshing the access tokens...\u001B[39m\n",
      "\u001B[33mRefreshing the access tokens...\u001B[39m\n",
      "\u001B[33mRefreshing the access tokens...\u001B[39m\n",
      "\u001B[33mRefreshing the access tokens...\u001B[39m\n",
      "\u001B[33mRefreshing the access tokens...\u001B[39m\n",
      "\u001B[33mRefreshing the access tokens...\u001B[39m\n",
      "\u001B[33mRefreshing the access tokens...\u001B[39m\n",
      "\u001B[33mRefreshing the access tokens...\u001B[39m\n",
      "\u001B[33mRefreshing the access tokens...\u001B[39m\n",
      "\u001B[33mRefreshing the access tokens...\u001B[39m\n",
      "\u001B[33mRefreshing the access tokens...\u001B[39m\n",
      "\u001B[33mRefreshing the access tokens...\u001B[39m\n",
      "\u001B[33mRefreshing the access tokens...\u001B[39m\n",
      "\u001B[33mRefreshing the access tokens...\u001B[39m\n",
      "\u001B[33mRefreshing the access tokens...\u001B[39m\n",
      "\u001B[33mRefreshing the access tokens...\u001B[39m\n",
      "\u001B[33mRefreshing the access tokens...\u001B[39m\n",
      "\u001B[33mRefreshing the access tokens...\u001B[39m\n",
      "\u001B[33mRefreshing the access tokens...\u001B[39m\n",
      "\u001B[33mRefreshing the access tokens...\u001B[39m\n",
      "\u001B[31mSomething went wrong!\u001B[39m\n",
      "Execution failed on sql 'SELECT * FROM \"w\" WHERE w.\"sport\" = (SELECT \"\".\"sport\" AS sport FROM (SELECT w.\"sport\" AS sport, COUNT(*) AS count FROM w WHERE w.\"medal\" = 'gold' AND w.\"name\" LIKE '%russia%' GROUP BY w.\"sport\") ORDER BY \"\".count DESC LIMIT 1 OFFSET 1)': no such column: .sport\n",
      "\u001B[31mSomething went wrong!\u001B[39m\n",
      "Execution failed on sql 'SELECT * FROM \"documents\" WHERE w.\"sport\" = (SELECT \"\".\"sport\" AS sport FROM (SELECT w.\"sport\" AS sport, COUNT(*) AS count FROM w WHERE w.\"medal\" = 'gold' AND w.\"name\" LIKE '%russia%' GROUP BY w.\"sport\") ORDER BY \"\".count DESC LIMIT 1 OFFSET 1)': no such column: w.sport\n",
      "\u001B[33mRefreshing the access tokens...\u001B[39m\n",
      "\u001B[33mRefreshing the access tokens...\u001B[39m\n",
      "\u001B[33mRefreshing the access tokens...\u001B[39m\n",
      "\u001B[33mRefreshing the access tokens...\u001B[39m\n",
      "\u001B[33mRefreshing the access tokens...\u001B[39m\n",
      "\u001B[33mRefreshing the access tokens...\u001B[39m\n",
      "\u001B[33mRefreshing the access tokens...\u001B[39m\n",
      "\u001B[33mRefreshing the access tokens...\u001B[39m\n",
      "\u001B[33mRefreshing the access tokens...\u001B[39m\n",
      "\u001B[33mRefreshing the access tokens...\u001B[39m\n",
      "\u001B[33mRefreshing the access tokens...\u001B[39m\n",
      "\u001B[33mRefreshing the access tokens...\u001B[39m\n",
      "\u001B[33mRefreshing the access tokens...\u001B[39m\n",
      "\u001B[33mRefreshing the access tokens...\u001B[39m\n",
      "\u001B[33mRefreshing the access tokens...\u001B[39m\n",
      "\u001B[33mRefreshing the access tokens...\u001B[39m\n",
      "\u001B[33mRefreshing the access tokens...\u001B[39m\n",
      "\u001B[33mRefreshing the access tokens...\u001B[39m\n",
      "\u001B[33mRefreshing the access tokens...\u001B[39m\n",
      "\u001B[33mRefreshing the access tokens...\u001B[39m\n",
      "\u001B[33mRefreshing the access tokens...\u001B[39m\n",
      "\u001B[33mRefreshing the access tokens...\u001B[39m\n",
      "\u001B[33mRefreshing the access tokens...\u001B[39m\n",
      "\u001B[33mRefreshing the access tokens...\u001B[39m\n",
      "\u001B[33mRefreshing the access tokens...\u001B[39m\n",
      "\u001B[33mRefreshing the access tokens...\u001B[39m\n",
      "\u001B[33mRefreshing the access tokens...\u001B[39m\n",
      "\u001B[33mRefreshing the access tokens...\u001B[39m\n",
      "\u001B[33mRefreshing the access tokens...\u001B[39m\n",
      "\u001B[33mRefreshing the access tokens...\u001B[39m\n",
      "\u001B[33mRefreshing the access tokens...\u001B[39m\n",
      "\u001B[33mRefreshing the access tokens...\u001B[39m\n",
      "\u001B[33mRefreshing the access tokens...\u001B[39m\n",
      "\u001B[33mRefreshing the access tokens...\u001B[39m\n",
      "\u001B[33mRefreshing the access tokens...\u001B[39m\n",
      "\u001B[33mRefreshing the access tokens...\u001B[39m\n",
      "\u001B[33mRefreshing the access tokens...\u001B[39m\n",
      "\u001B[33mRefreshing the access tokens...\u001B[39m\n",
      "\u001B[33mRefreshing the access tokens...\u001B[39m\n",
      "\u001B[33mRefreshing the access tokens...\u001B[39m\n",
      "\u001B[33mRefreshing the access tokens...\u001B[39m\n",
      "\u001B[33mRefreshing the access tokens...\u001B[39m\u001B[33mRefreshing the access tokens...\u001B[39m\n",
      "\n",
      "\u001B[33mRefreshing the access tokens...\u001B[39m\n",
      "\u001B[33mRefreshing the access tokens...\u001B[39m\n",
      "\u001B[33mRefreshing the access tokens...\u001B[39m\n",
      "\u001B[33mRefreshing the access tokens...\u001B[39m\n",
      "\u001B[33mRefreshing the access tokens...\u001B[39m\n",
      "\u001B[33mRefreshing the access tokens...\u001B[39m\n",
      "\u001B[33mRefreshing the access tokens...\u001B[39m\n",
      "\u001B[33mRefreshing the access tokens...\u001B[39m\n",
      "\u001B[33mRefreshing the access tokens...\u001B[39m\n",
      "\u001B[33mRefreshing the access tokens...\u001B[39m\n",
      "\u001B[33mRefreshing the access tokens...\u001B[39m\n",
      "\u001B[33mRefreshing the access tokens...\u001B[39m\n",
      "\u001B[33mRefreshing the access tokens...\u001B[39m\n",
      "\u001B[33mRefreshing the access tokens...\u001B[39m\n",
      "\u001B[33mRefreshing the access tokens...\u001B[39m\n",
      "\u001B[33mRefreshing the access tokens...\u001B[39m\n",
      "\u001B[33mRefreshing the access tokens...\u001B[39m\u001B[33mRefreshing the access tokens...\u001B[39m\n",
      "\n",
      "\u001B[33mRefreshing the access tokens...\u001B[39m\n",
      "\u001B[33mRefreshing the access tokens...\u001B[39m\n",
      "\u001B[33mRefreshing the access tokens...\u001B[39m\n",
      "\u001B[33mRefreshing the access tokens...\u001B[39m\n",
      "\u001B[33mRefreshing the access tokens...\u001B[39m\n",
      "\u001B[33mRefreshing the access tokens...\u001B[39m\n",
      "\u001B[33mRefreshing the access tokens...\u001B[39m\n"
     ]
    },
    {
     "name": "stderr",
     "output_type": "stream",
     "text": [
      "\n",
      "KeyboardInterrupt\n",
      "\n"
     ]
    }
   ],
   "source": [
    "num_tokens = 0\n",
    "model = AzureOpenaiLLM(\"gpt-4\", env=\"..\")\n",
    "for item in tqdm(predictions):\n",
    "    db = SQLite( \"../\" + item[EvalField.DB_PATH])\n",
    "    question = item[EvalField.QUESTION]\n",
    "    prompt = ParserProgram(model=model.model, serialized_db=db.to_serialized(num_rows=3), question=question)\n",
    "    num_tokens += len(model.tokenizer.encode(prompt))\n",
    "    model = AzureOpenaiLLM(\"gpt-4\", env=\"..\", caching=False)\n",
    "    try:\n",
    "        res = blend(\n",
    "            query=item['pred_sql'],\n",
    "            db=db,\n",
    "            ingredients={LLMMap, LLMQA, LLMJoin},\n",
    "            blender=model,\n",
    "            infer_gen_constraints=True,\n",
    "            silence_db_exec_errors=False,\n",
    "            verbose=False,\n",
    "        )\n",
    "        num_tokens += res.meta.num_prompt_tokens\n",
    "    except:\n",
    "        pass\n",
    "print(\"Average: BlendSQL, 3 rows:\")\n",
    "print(num_tokens / len(predictions))"
   ],
   "metadata": {
    "collapsed": false,
    "ExecuteTime": {
     "end_time": "2024-04-10T12:54:38.002539Z",
     "start_time": "2024-04-10T12:30:48.710349Z"
    }
   }
  },
  {
   "cell_type": "code",
   "execution_count": 51,
   "outputs": [
    {
     "data": {
      "text/plain": "4673"
     },
     "execution_count": 51,
     "metadata": {},
     "output_type": "execute_result"
    }
   ],
   "source": [
    "num_tokens"
   ],
   "metadata": {
    "collapsed": false,
    "ExecuteTime": {
     "end_time": "2024-04-08T17:12:28.129426Z",
     "start_time": "2024-04-08T17:12:28.125906Z"
    }
   }
  },
  {
   "cell_type": "code",
   "execution_count": 38,
   "outputs": [
    {
     "name": "stdout",
     "output_type": "stream",
     "text": [
      "CREATE TABLE \"w\" (\n",
      "\"index\" INTEGER,\n",
      "  \"program\" TEXT,\n",
      "  \"network\" TEXT,\n",
      "  \"debut date\" TEXT\n",
      ")\n",
      "/*\n",
      "3 example rows:\n",
      "SELECT * FROM \"w\" LIMIT 3\n",
      " index               program network debut date\n",
      "     0             freefonix    abc3  2 january\n",
      "     1       / the octonauts    abc2  2 january\n",
      "     2 facejacker facejacker   sbs 1 10 january\n",
      "*/\n",
      "\n",
      "\tCREATE VIRTUAL TABLE documents USING fts5(title, content, tokenize = 'trigram')\n"
     ]
    }
   ],
   "source": [
    "print(db.to_serialized(num_rows=3))"
   ],
   "metadata": {
    "collapsed": false,
    "ExecuteTime": {
     "end_time": "2024-04-08T17:04:27.126933Z",
     "start_time": "2024-04-08T17:04:27.122133Z"
    }
   }
  },
  {
   "cell_type": "code",
   "execution_count": 44,
   "outputs": [
    {
     "data": {
      "text/plain": "{'id': '00153f694413a536',\n 'dataset_vars': {'table_id': 'List_of_National_Football_League_rushing_yards_leaders_0',\n  'gold_passage': \"passages: Emmitt Smith: Smith led the league in rushing and won the Super Bowl in the same year three times ( 1992 , 1993 , and 1995 ) when to that point it had never been done . | Walter Payton: Walter Jerry Payton ( July 25 , 1954 - November 1 , 1999 ) was an American professional football player who was a running back for the Chicago Bears of the National Football League ( NFL ) for thirteen seasons . | San Francisco 49ers: The team began play at Kezar Stadium in San Francisco before moving across town to Candlestick Park in 1970 and then to Levi 's Stadium in Santa Clara in 2014 . The 49ers won five Super Bowl championships between 1981 and 1994 , led by Hall of Famers Joe Montana , Jerry Rice , Ronnie Lott , Steve Young , and coaches Bill Walsh and George Seifert . | Denver Broncos: They have won eight AFC Championships ( 1977 , 1986 , 1987 , 1989 , 1997 , 1998 , 2013 , 2015 ) , and three Super Bowl championships ( 1997 ( XXXII ) , 1998 ( XXXIII ) , 2015 ( 50 ) ) , and share the NFL record for most Super Bowl losses ( 5 - tied with the New England Patriots ) . | \",\n  'context': 'List of National Football League career rushing yards leaders | Players with at least 10,000 rushing yards | Through end of 2019 season | This is a list of National Football League running backs by total career rushing yards. This list includes all running backs who have rushed for at least 10,000 yards. Emmitt Smith has held the all-time rushing yards record since 2002.',\n  'db_path': 'research/db/hybridqa/List_of_National_Football_League_rushing_yards_leaders_0.db'},\n 'idx': 0,\n 'input_program_args': {'bridge_hints': '',\n  'extra_task_description': 'Additionally, we have the table `documents` at our disposal, which contains Wikipedia articles providing more details about the values in our table.',\n  'question': 'What is the middle name of the player with the second most National Football League career rushing yards ?',\n  'serialized_db': 'CREATE TABLE \"w\" (\\n\"index\" INTEGER,\\n  \"rank\" INTEGER,\\n  \"player\" TEXT,\\n  \"team ( s ) by season\" TEXT,\\n  \"carries\" INTEGER,\\n  \"yards\" INTEGER,\\n  \"average\" REAL\\n)\\n/*\\n3 example rows:\\nSELECT * FROM \"w\" LIMIT 3\\n index  rank        player                                                                                                           team ( s ) by season  carries  yards  average\\n     0     1  emmitt smith                                                               dallas cowboys ( 1990 - 2002 ) arizona cardinals ( 2003 - 2004 )     4409  18355      4.2\\n     1     2 walter payton                                                                                                  chicago bears ( 1975 - 1987 )     3838  16726      4.4\\n     2     3    frank gore san francisco 49ers ( 2005 - 2014 ) indianapolis colts ( 2015 - 2017 ) miami dolphins ( 2018 ) buffalo bills ( 2019 -present )     3548  15347      4.3\\n*/\\n\\nCREATE VIRTUAL TABLE documents USING fts5(title, content, tokenize = \\'trigram\\')'},\n 'db_path': 'research/db/hybridqa/List_of_National_Football_League_rushing_yards_leaders_0.db',\n 'pred_sql': '{{\\n    LLMQA(\\n        \\'What is the middle name of this player?\\',\\n        (\\n            SELECT documents.title AS \\'Player\\', documents.content FROM documents\\n            JOIN {{\\n                LLMJoin(\\n                    left_on=\\'w::player\\',\\n                    right_on=\\'documents::title\\'\\n                )\\n            }} WHERE w.\"rank\" = 2\\n        )\\n    )\\n}}',\n 'num_few_shot_examples': 12,\n 'pred_text': 'Jerry',\n 'answer_text': 'Jerry',\n 'solver': 'blendsql',\n 'error': None,\n 'question': 'What is the middle name of the player with the second most National Football League career rushing yards ?',\n 'pred_has_ingredient': True,\n 'example_map_outputs': []}"
     },
     "execution_count": 44,
     "metadata": {},
     "output_type": "execute_result"
    }
   ],
   "source": [
    "predictions[0]"
   ],
   "metadata": {
    "collapsed": false,
    "ExecuteTime": {
     "end_time": "2024-04-08T17:11:12.281189Z",
     "start_time": "2024-04-08T17:11:12.268110Z"
    }
   }
  },
  {
   "cell_type": "code",
   "execution_count": null,
   "outputs": [],
   "source": [],
   "metadata": {
    "collapsed": false
   }
  }
 ],
 "metadata": {
  "kernelspec": {
   "display_name": "Python 3",
   "language": "python",
   "name": "python3"
  },
  "language_info": {
   "codemirror_mode": {
    "name": "ipython",
    "version": 2
   },
   "file_extension": ".py",
   "mimetype": "text/x-python",
   "name": "python",
   "nbconvert_exporter": "python",
   "pygments_lexer": "ipython2",
   "version": "2.7.6"
  }
 },
 "nbformat": 4,
 "nbformat_minor": 0
}
